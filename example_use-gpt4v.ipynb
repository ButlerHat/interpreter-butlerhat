{
 "cells": [
  {
   "cell_type": "markdown",
   "metadata": {},
   "source": [
    "# Ejemplo de uso de la API\n",
    "\n",
    "En este script aparece como usar la API de ButlerHat para automatizar procesos mediante comandos hechos con IA.\n",
    "Todos los comandos tienen que tener la sintaxis de RobotFramework.\n",
    "\n",
    "## Setup\n",
    "Se necesita iniciar un nuevo intérprete. Es necesario guardarse el id para hacer nuevas peticiones. \n",
    "Además de iniciar un intérprete, hay que cargar la librería para poder ejecutar comandos. La libería que se carga es IABrowserLibrary, una librería exclusiva de ButlerHat basada en [Browser](https://marketsquare.github.io/robotframework-browser/Browser.html)."
   ]
  },
  {
   "cell_type": "markdown",
   "metadata": {},
   "source": [
    "Carga la librería"
   ]
  },
  {
   "cell_type": "code",
   "execution_count": 2,
   "metadata": {},
   "outputs": [],
   "source": [
    "import requests"
   ]
  },
  {
   "cell_type": "markdown",
   "metadata": {},
   "source": [
    "Especifica la url de la API."
   ]
  },
  {
   "cell_type": "code",
   "execution_count": 3,
   "metadata": {},
   "outputs": [],
   "source": [
    "# base_url = \"http://interpreter.butlerhat.com\"  # adjust this to the actual URL of your API\\\n",
    "base_url = \"http://localhost:8000\""
   ]
  },
  {
   "cell_type": "markdown",
   "metadata": {},
   "source": [
    "Inicia el navegador con tus cookies."
   ]
  },
  {
   "cell_type": "code",
   "execution_count": 12,
   "metadata": {},
   "outputs": [
    {
     "name": "stdout",
     "output_type": "stream",
     "text": [
      "200\n",
      "null\n"
     ]
    }
   ],
   "source": [
    "# Replace 'sample.json' with the path to your JSON file\n",
    "with open('cookies.json', 'rb') as f:\n",
    "    files = {'cookie_file': f}\n",
    "    response = requests.post(base_url + \"/start_browser_cookies\", files=files)\n",
    "\n",
    "print(response.status_code)\n",
    "print(response.text)"
   ]
  },
  {
   "cell_type": "markdown",
   "metadata": {},
   "source": [
    "Ejecuta comandos con generate"
   ]
  },
  {
   "cell_type": "code",
   "execution_count": 32,
   "metadata": {},
   "outputs": [
    {
     "name": "stdout",
     "output_type": "stream",
     "text": [
      "200\n",
      "\"Based on the provided image and estimating visually, the bounding box for the \\\"Últimas Novedades\\\" web element might be:\\n\\nBBox(x1: 605, y1: 10, x2: 730, y2: 50)\\n\\nPlease note that this is a visual approximation and the actual coordinates may vary.\"\n"
     ]
    }
   ],
   "source": [
    "# Replace 'sample_image.jpg' with the path to your image file if you want to send one\n",
    "with open('apis/gpt4v/images/amazon_home.png', 'rb') as f:\n",
    "    data = {\n",
    "        'prompt': 'Imagine you are the web inspector console and you can get the exact bounding box of the web elements. The page image es 1280x720. Give me the bounding box in format BBox(x1, y1, x2, y2) of the \"Ultimas novedades\" web element. The coordinates must be in pixels.',\n",
    "    }\n",
    "    files = {'image': f}\n",
    "    response = requests.post(base_url + \"/generate\", data=data, files=files)\n",
    "\n",
    "print(response.status_code)\n",
    "print(response.text)"
   ]
  },
  {
   "cell_type": "code",
   "execution_count": 4,
   "metadata": {},
   "outputs": [
    {
     "name": "stdout",
     "output_type": "stream",
     "text": [
      "200\n",
      "\"¡Hola! ¿En qué puedo ayudarte hoy?\"\n"
     ]
    }
   ],
   "source": [
    "data = {\"prompt\": \"Hola GPT 4\"}\n",
    "    \n",
    "response = requests.post(base_url + \"/generate\", data=data)\n",
    "\n",
    "print(response.status_code)\n",
    "print(response.text)"
   ]
  },
  {
   "cell_type": "markdown",
   "metadata": {},
   "source": [
    "Delete the last conversation and reload the page"
   ]
  },
  {
   "cell_type": "code",
   "execution_count": 5,
   "metadata": {},
   "outputs": [
    {
     "name": "stdout",
     "output_type": "stream",
     "text": [
      "200\n",
      "null\n"
     ]
    }
   ],
   "source": [
    "response = requests.post(base_url + \"/delete_last_chat\")\n",
    "\n",
    "print(response.status_code)\n",
    "print(response.text)"
   ]
  }
 ],
 "metadata": {
  "kernelspec": {
   "display_name": "base",
   "language": "python",
   "name": "python3"
  },
  "language_info": {
   "codemirror_mode": {
    "name": "ipython",
    "version": 3
   },
   "file_extension": ".py",
   "mimetype": "text/x-python",
   "name": "python",
   "nbconvert_exporter": "python",
   "pygments_lexer": "ipython3",
   "version": "3.10.13"
  },
  "orig_nbformat": 4
 },
 "nbformat": 4,
 "nbformat_minor": 2
}
