{
 "cells": [
  {
   "cell_type": "markdown",
   "metadata": {},
   "source": [
    "# Ejemplo de uso de la API\n",
    "\n",
    "En este script aparece como usar la API de ButlerHat para automatizar procesos mediante comandos hechos con IA.\n",
    "Todos los comandos tienen que tener la sintaxis de RobotFramework.\n",
    "\n",
    "## Setup\n",
    "Se necesita iniciar un nuevo intérprete. Es necesario guardarse el id para hacer nuevas peticiones. \n",
    "Además de iniciar un intérprete, hay que cargar la librería para poder ejecutar comandos. La libería que se carga es IABrowserLibrary, una librería exclusiva de ButlerHat basada en [Browser](https://marketsquare.github.io/robotframework-browser/Browser.html)."
   ]
  },
  {
   "cell_type": "markdown",
   "metadata": {},
   "source": [
    "Carga la librería"
   ]
  },
  {
   "cell_type": "code",
   "execution_count": 1,
   "metadata": {},
   "outputs": [],
   "source": [
    "import json\n",
    "import requests"
   ]
  },
  {
   "cell_type": "markdown",
   "metadata": {},
   "source": [
    "Especifica la url de la API."
   ]
  },
  {
   "cell_type": "code",
   "execution_count": 2,
   "metadata": {},
   "outputs": [],
   "source": [
    "base_url = \"http://interpreter.butlerhat.com\"  # adjust this to the actual URL of your API"
   ]
  },
  {
   "cell_type": "markdown",
   "metadata": {},
   "source": [
    "Inicia el intérprete."
   ]
  },
  {
   "cell_type": "code",
   "execution_count": 7,
   "metadata": {},
   "outputs": [
    {
     "name": "stdout",
     "output_type": "stream",
     "text": [
      "Started interpreter with id f82964b9-ef8b-4331-a3e8-2c57124d32c1\n"
     ]
    }
   ],
   "source": [
    "response = requests.get(f\"{base_url}/start_interpreter\", timeout=5)\n",
    "assert response.status_code == 200, f\"Failed to start interpreter: {response.text}\"\n",
    "data = response.json()\n",
    "interpreter_id = data['id']\n",
    "print(f\"Started interpreter with id {interpreter_id}\")\n",
    "# Send a command"
   ]
  },
  {
   "cell_type": "markdown",
   "metadata": {},
   "source": [
    "Carga la librería, no cambies el comandos si no sabes lo que hace."
   ]
  },
  {
   "cell_type": "code",
   "execution_count": 4,
   "metadata": {},
   "outputs": [
    {
     "name": "stdout",
     "output_type": "stream",
     "text": [
      "{'success': True, 'message': None, 'result': 'None'}\n"
     ]
    }
   ],
   "source": [
    "command = \"\"\"\n",
    "*** Settings ***\\nLibrary   ButlerRobot.AIBrowserLibrary  fix_bbox=${TRUE}  presentation_mode=${True}  console=${False}  record=${True}  output_path=${OUTPUT_DIR}/crawl_amazon_data  WITH NAME  Browser\n",
    "\"\"\"\n",
    "\n",
    "headers = {'Content-type': 'application/json'}\n",
    "data = json.dumps({\"command\": command})\n",
    "response = requests.post(f\"{base_url}/evaluate/{interpreter_id}\", data=data, headers=headers, timeout=5)\n",
    "print(response.json())  # prints the result of the command execution"
   ]
  },
  {
   "cell_type": "markdown",
   "metadata": {},
   "source": [
    "## Abre un navegador\n",
    "Se debe de abrir un nuevo navegador para poder hacer acciones con la IA."
   ]
  },
  {
   "cell_type": "code",
   "execution_count": 15,
   "metadata": {},
   "outputs": [
    {
     "name": "stdout",
     "output_type": "stream",
     "text": [
      "{'success': True, 'message': None, 'result': 'None'}\n"
     ]
    }
   ],
   "source": [
    "command = \"\"\"\n",
    "Open Browser    https://deportesweb.madrid.es/DeportesWeb/Home\n",
    "\"\"\"\n",
    "headers = {'Content-type': 'application/json'}\n",
    "data = json.dumps({\"command\": command})\n",
    "response = requests.post(f\"{base_url}/evaluate/{interpreter_id}\", data=data, headers=headers, timeout=180)\n",
    "print(response.json())  # prints the result of the command execution\n"
   ]
  },
  {
   "cell_type": "markdown",
   "metadata": {},
   "source": [
    "## Ejecuta comandos con la IA\n",
    "Una vez abierto el navegador, se pueden ejecutar comandos con la inteligencia artificial para clicar botones o escribir en campos. Todos las instrucciones tienen que tener el formato de `AI.<instrucción>`"
   ]
  },
  {
   "cell_type": "code",
   "execution_count": 17,
   "metadata": {},
   "outputs": [
    {
     "name": "stdout",
     "output_type": "stream",
     "text": [
      "{'success': True, 'message': None, 'result': 'None'}\n"
     ]
    }
   ],
   "source": [
    "command = \"\"\"\n",
    "AI.Click on \"Actualidad\" at the top\n",
    "\"\"\"\n",
    "headers = {'Content-type': 'application/json'}\n",
    "data = json.dumps({\"command\": command})\n",
    "response = requests.post(f\"{base_url}/evaluate/{interpreter_id}\", data=data, headers=headers, timeout=180)\n",
    "print(response.json())"
   ]
  },
  {
   "cell_type": "code",
   "execution_count": 14,
   "metadata": {},
   "outputs": [
    {
     "name": "stdout",
     "output_type": "stream",
     "text": [
      "{'success': True, 'message': None, 'result': 'None'}\n"
     ]
    }
   ],
   "source": [
    "command = \"\"\"\n",
    "AI.Click on \"No identificado\"\n",
    "\"\"\"\n",
    "headers = {'Content-type': 'application/json'}\n",
    "data = json.dumps({\"command\": command})\n",
    "response = requests.post(f\"{base_url}/evaluate/{interpreter_id}\", data=data, headers=headers, timeout=180)\n",
    "print(response.json())"
   ]
  },
  {
   "cell_type": "markdown",
   "metadata": {},
   "source": [
    "## Cerrar el intérprete\n",
    "Una vez usado el intérprete, hace falta cerrarlo."
   ]
  },
  {
   "cell_type": "code",
   "execution_count": null,
   "metadata": {},
   "outputs": [],
   "source": [
    "# Stop the interpreter\n",
    "response = requests.delete(f\"{base_url}/stop_interpreter/{interpreter_id}\", timeout=5)\n",
    "print(response.json())  # prints the result of the stop command"
   ]
  }
 ],
 "metadata": {
  "kernelspec": {
   "display_name": "base",
   "language": "python",
   "name": "python3"
  },
  "language_info": {
   "codemirror_mode": {
    "name": "ipython",
    "version": 3
   },
   "file_extension": ".py",
   "mimetype": "text/x-python",
   "name": "python",
   "nbconvert_exporter": "python",
   "pygments_lexer": "ipython3",
   "version": "3.10.11"
  },
  "orig_nbformat": 4
 },
 "nbformat": 4,
 "nbformat_minor": 2
}
